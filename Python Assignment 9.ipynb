{
 "cells": [
  {
   "cell_type": "code",
   "execution_count": 1,
   "id": "4df2ef87",
   "metadata": {},
   "outputs": [],
   "source": [
    "#Q1. TO WHAT DOES A RELATIVE PATH REFER ?"
   ]
  },
  {
   "cell_type": "code",
   "execution_count": 2,
   "id": "33dd26fe",
   "metadata": {},
   "outputs": [],
   "source": [
    "# Ans: The relative path is the path to some file with respect to your current working directory (PWD)."
   ]
  },
  {
   "cell_type": "code",
   "execution_count": 3,
   "id": "833cfb67",
   "metadata": {},
   "outputs": [],
   "source": [
    "#Q2. Where does absolute path start with your Operating System ? "
   ]
  },
  {
   "cell_type": "code",
   "execution_count": 4,
   "id": "bfc8bc9e",
   "metadata": {},
   "outputs": [],
   "source": [
    "# Ans: In Linux based Operating systems the absolute path starts with / where as in Windows based Operating systems absolute path starts with C:"
   ]
  },
  {
   "cell_type": "code",
   "execution_count": 5,
   "id": "b2409751",
   "metadata": {},
   "outputs": [],
   "source": [
    "#Q3. What does the function os.getcwd() and os.chdir() do ?"
   ]
  },
  {
   "cell_type": "code",
   "execution_count": 1,
   "id": "5566344a",
   "metadata": {},
   "outputs": [],
   "source": [
    "# Ans: os.getcwd() method tells us the location of current working directory (CWD). Whereas os.chdir() method in Python used to change the current working directory to specified path. These functions are similar to linux commands pwd and cd"
   ]
  },
  {
   "cell_type": "code",
   "execution_count": 2,
   "id": "67122486",
   "metadata": {},
   "outputs": [
    {
     "name": "stdout",
     "output_type": "stream",
     "text": [
      "C:\\Users\\akhil\n"
     ]
    }
   ],
   "source": [
    "import os\n",
    "print(os.getcwd())"
   ]
  },
  {
   "cell_type": "code",
   "execution_count": 3,
   "id": "2d291c6d",
   "metadata": {},
   "outputs": [
    {
     "name": "stdout",
     "output_type": "stream",
     "text": [
      "C:\\Users\\akhil\n",
      "C:\\Users\\akhil\n"
     ]
    }
   ],
   "source": [
    "import os\n",
    "print(os.getcwd())\n",
    "path = r'C:\\Users\\akhil'\n",
    "os.chdir(path)\n",
    "print(os.getcwd())"
   ]
  },
  {
   "cell_type": "code",
   "execution_count": 4,
   "id": "4fca6c38",
   "metadata": {},
   "outputs": [],
   "source": [
    "#Q4. What are . and .. folders?"
   ]
  },
  {
   "cell_type": "code",
   "execution_count": 5,
   "id": "2c073fc6",
   "metadata": {},
   "outputs": [],
   "source": [
    "#Ans4. . Represents the Current Directory Whereas .. Represents the Parent Directory of the Current Directory."
   ]
  },
  {
   "cell_type": "code",
   "execution_count": 6,
   "id": "14cc245e",
   "metadata": {},
   "outputs": [],
   "source": [
    "#Q5. In C:\\bacon\\eggs\\spam.txt which part is the dir name and which part is the base name ?"
   ]
  },
  {
   "cell_type": "code",
   "execution_count": 9,
   "id": "abc5368f",
   "metadata": {},
   "outputs": [],
   "source": [
    "#Ans5. For C:\\bacon\\eggs\\spam.txt\n",
    "# The dir name is C:\\\\bacon\\\\eggs\n",
    "# The Base name is spam.txt"
   ]
  },
  {
   "cell_type": "code",
   "execution_count": 8,
   "id": "0f20fa9b",
   "metadata": {},
   "outputs": [
    {
     "name": "stdout",
     "output_type": "stream",
     "text": [
      "C:\\bacon\\eggs\n",
      "spam.txt\n"
     ]
    }
   ],
   "source": [
    "import os\n",
    "path = r'C:\\bacon\\eggs\\spam.txt'\n",
    "print(os.path.dirname(path))\n",
    "print(os.path.basename(path))"
   ]
  },
  {
   "cell_type": "code",
   "execution_count": 10,
   "id": "7976a8d7",
   "metadata": {},
   "outputs": [],
   "source": [
    "#Q6. What are the three mode arguments that can be passed to open() function?"
   ]
  },
  {
   "cell_type": "markdown",
   "id": "28caa88b",
   "metadata": {},
   "source": [
    "A file can be Accessed in python using open() function. open function takes two arguments filename and mode of operation (optional). if mode is not provided the default mode of opening is read mode\n",
    "So, the syntax being: open(filename, mode)\n",
    "\n",
    "‘r’ – Read Mode: This is the default mode for open(). The file is opened and a pointer is positioned at the beginning of the file’s content.\n",
    "‘w’ – Write Mode: Using this mode will overwrite any existing content in a file. If the given file does not exist, a new one will be created.\n",
    "‘r+’ – Read/Write Mode: Use this mode if you need to simultaneously read and write to a file.\n",
    "‘a’ – Append Mode: With this mode the user can append the data without overwriting any already existing data in the file.\n",
    "‘a+’ – Append and Read Mode: In this mode you can read and append the data without overwriting the original file.\n",
    "‘x’ – Exclusive Creating Mode: This mode is for the sole purpose of creating new files. Use this mode if you know the file to be written doesn’t exist beforehand."
   ]
  },
  {
   "cell_type": "code",
   "execution_count": 12,
   "id": "12e18501",
   "metadata": {},
   "outputs": [],
   "source": [
    "# Q7. What happens if an existing file is opened in write mode ?"
   ]
  },
  {
   "cell_type": "code",
   "execution_count": 13,
   "id": "c7c84d57",
   "metadata": {},
   "outputs": [],
   "source": [
    "# Ans7. Using this mode will overwrite any existing content in a file. If the given file does not exist, a new one will be created."
   ]
  },
  {
   "cell_type": "code",
   "execution_count": 14,
   "id": "e90b7e6a",
   "metadata": {},
   "outputs": [],
   "source": [
    "#Q8. How do you tell the difference between read() and readline()?"
   ]
  },
  {
   "cell_type": "code",
   "execution_count": 15,
   "id": "a8daee06",
   "metadata": {},
   "outputs": [],
   "source": [
    "#Ans8. The main differneces is that read() will read the whole file at once and then print out the first characters that take up\n",
    "#      as many bytes as you specify in the paranthesis while the readline() will read and print only the first character that \n",
    "#      takes up as many bytes as you specify in the paranthesis. We are using readline() when you're reading files that are too \n",
    "#      big for your RAM."
   ]
  },
  {
   "cell_type": "code",
   "execution_count": 16,
   "id": "f04405c2",
   "metadata": {},
   "outputs": [],
   "source": [
    "#Q9. What data  structures does a shelf value resemble?"
   ]
  },
  {
   "cell_type": "code",
   "execution_count": 17,
   "id": "b3eafec9",
   "metadata": {},
   "outputs": [],
   "source": [
    "#Ans.  A shelf value resemble a dictionary value ; it has keys and values, along with keys() and values() methods that work \n",
    "#      similarly to the dictionary method of the same name."
   ]
  }
 ],
 "metadata": {
  "kernelspec": {
   "display_name": "Python 3 (ipykernel)",
   "language": "python",
   "name": "python3"
  },
  "language_info": {
   "codemirror_mode": {
    "name": "ipython",
    "version": 3
   },
   "file_extension": ".py",
   "mimetype": "text/x-python",
   "name": "python",
   "nbconvert_exporter": "python",
   "pygments_lexer": "ipython3",
   "version": "3.9.7"
  }
 },
 "nbformat": 4,
 "nbformat_minor": 5
}
