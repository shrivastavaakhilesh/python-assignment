{
 "cells": [
  {
   "cell_type": "code",
   "execution_count": 1,
   "id": "7462f96e",
   "metadata": {},
   "outputs": [],
   "source": [
    "#Q1. What are escape charaters, and how do you use them?\n",
    "\n",
    "#Ans. The backslash\"\\\" is a special  characters called \"escape\" character.To escape a single character or symbol we use the \n",
    "#       escape character."
   ]
  },
  {
   "cell_type": "code",
   "execution_count": 2,
   "id": "d491acd4",
   "metadata": {},
   "outputs": [],
   "source": [
    "#Q2. What do the escape character n and t stand for?\n",
    "\n",
    "#Ans. \\n stands for new line character\n",
    "#      \\t stands for horizontall tab"
   ]
  },
  {
   "cell_type": "code",
   "execution_count": 3,
   "id": "43f55dac",
   "metadata": {},
   "outputs": [],
   "source": [
    "#Q3. What is the way to include backslash character in a string?\n",
    "\n",
    "#Ans. In a normal string just add a backslash in the end before pressing Enter to continue typing next on the next line.For instance,\n",
    "\n",
    "Text='Hello\\\n",
    "world'"
   ]
  },
  {
   "cell_type": "code",
   "execution_count": 4,
   "id": "641400a4",
   "metadata": {},
   "outputs": [
    {
     "data": {
      "text/plain": [
       "'Helloworld'"
      ]
     },
     "execution_count": 4,
     "metadata": {},
     "output_type": "execute_result"
    }
   ],
   "source": [
    "Text"
   ]
  },
  {
   "cell_type": "code",
   "execution_count": 5,
   "id": "e0e78a47",
   "metadata": {},
   "outputs": [],
   "source": [
    "#Q4. The string \"How!'s Moving Castle\" is a correct value. Why isn't the single quote character  inn the word Hoew!'s not escaped a problem?'\n",
    "\n",
    "#Ans. Because we have used double quotes to mark the begining and end of the string"
   ]
  },
  {
   "cell_type": "code",
   "execution_count": 6,
   "id": "77979bda",
   "metadata": {},
   "outputs": [],
   "source": [
    "#Q5. How do you write a string of newlines if you don't want to use the n characters?\n",
    "\n",
    "#Ans. Multiline strings allow  us  to use newlines in strings without using n characters."
   ]
  },
  {
   "cell_type": "code",
   "execution_count": 7,
   "id": "580d3a0f",
   "metadata": {},
   "outputs": [],
   "source": [
    "#Q6. What are the values of the given expressions?\n",
    "#    'Hello , world!'\n",
    "#    'Hello,world!'[0:5]\n",
    "#    'Hello,world!'[::5]\n",
    "#    'Hello,world!'[3::]\n",
    "\n",
    "#Ans. The expressions evaluates the following"
   ]
  },
  {
   "cell_type": "code",
   "execution_count": 8,
   "id": "f354944a",
   "metadata": {},
   "outputs": [
    {
     "data": {
      "text/plain": [
       "'Hello'"
      ]
     },
     "execution_count": 8,
     "metadata": {},
     "output_type": "execute_result"
    }
   ],
   "source": [
    "'Hello,world!'[0:5]"
   ]
  },
  {
   "cell_type": "code",
   "execution_count": 9,
   "id": "2518dd88",
   "metadata": {},
   "outputs": [
    {
     "data": {
      "text/plain": [
       "'H,d'"
      ]
     },
     "execution_count": 9,
     "metadata": {},
     "output_type": "execute_result"
    }
   ],
   "source": [
    "'Hello,world!'[::5]"
   ]
  },
  {
   "cell_type": "code",
   "execution_count": 10,
   "id": "14fdd049",
   "metadata": {},
   "outputs": [
    {
     "data": {
      "text/plain": [
       "'lo,world!'"
      ]
     },
     "execution_count": 10,
     "metadata": {},
     "output_type": "execute_result"
    }
   ],
   "source": [
    "'Hello,world!'[3::]"
   ]
  },
  {
   "cell_type": "code",
   "execution_count": 11,
   "id": "36cdaa83",
   "metadata": {},
   "outputs": [],
   "source": [
    "#Q7. What  are the values of the following expressions?\n",
    "#    'Hello'.upper()\n",
    "#    'Hello'.upper.isupper()\n",
    "#    'Hello'.upper().lower()\n",
    "\n",
    "# Ans. The expressions evaluates the following"
   ]
  },
  {
   "cell_type": "code",
   "execution_count": 12,
   "id": "bb3aa4cc",
   "metadata": {},
   "outputs": [
    {
     "data": {
      "text/plain": [
       "'HELLO'"
      ]
     },
     "execution_count": 12,
     "metadata": {},
     "output_type": "execute_result"
    }
   ],
   "source": [
    "'Hello'.upper()"
   ]
  },
  {
   "cell_type": "code",
   "execution_count": 13,
   "id": "de0eafff",
   "metadata": {},
   "outputs": [
    {
     "data": {
      "text/plain": [
       "True"
      ]
     },
     "execution_count": 13,
     "metadata": {},
     "output_type": "execute_result"
    }
   ],
   "source": [
    "'Hello'.upper().isupper()"
   ]
  },
  {
   "cell_type": "code",
   "execution_count": 14,
   "id": "dba6a845",
   "metadata": {},
   "outputs": [
    {
     "data": {
      "text/plain": [
       "'hello'"
      ]
     },
     "execution_count": 14,
     "metadata": {},
     "output_type": "execute_result"
    }
   ],
   "source": [
    "'Hello'.upper().lower()"
   ]
  },
  {
   "cell_type": "code",
   "execution_count": 15,
   "id": "003f4014",
   "metadata": {},
   "outputs": [],
   "source": [
    "#Q8. What  are the values of the following expressions?\n",
    "#    'Remember,remember,the fifth of July.'.split()\n",
    "#    '-'.join('There can only one.'.split())\n"
   ]
  },
  {
   "cell_type": "code",
   "execution_count": 16,
   "id": "adac1ff3",
   "metadata": {},
   "outputs": [
    {
     "data": {
      "text/plain": [
       "['Remember,remember,the', 'fifth', 'of', 'July.']"
      ]
     },
     "execution_count": 16,
     "metadata": {},
     "output_type": "execute_result"
    }
   ],
   "source": [
    "'Remember,remember,the fifth of July.'.split()"
   ]
  },
  {
   "cell_type": "code",
   "execution_count": 17,
   "id": "39f124d1",
   "metadata": {},
   "outputs": [
    {
     "data": {
      "text/plain": [
       "'There-can-only-one.'"
      ]
     },
     "execution_count": 17,
     "metadata": {},
     "output_type": "execute_result"
    }
   ],
   "source": [
    "'-'.join('There can only one.'.split())"
   ]
  },
  {
   "cell_type": "code",
   "execution_count": 18,
   "id": "8da6495f",
   "metadata": {},
   "outputs": [],
   "source": [
    "#Q9. What are the methods of right- justifying,left-justifying,and centering a string?\n",
    "\n",
    "#Ans. The rjust(),ljust(),and center() strings method respectively."
   ]
  },
  {
   "cell_type": "code",
   "execution_count": 19,
   "id": "1ca9fefe",
   "metadata": {},
   "outputs": [],
   "source": [
    "#Q10. What is the best way to remove whitespace characters from the left and right ends of a string, respectively?\n",
    "\n",
    "#Ans. The lstrip() and rstrip() methods remove whitespace characters from left  and  right respectively."
   ]
  }
 ],
 "metadata": {
  "kernelspec": {
   "display_name": "Python 3 (ipykernel)",
   "language": "python",
   "name": "python3"
  },
  "language_info": {
   "codemirror_mode": {
    "name": "ipython",
    "version": 3
   },
   "file_extension": ".py",
   "mimetype": "text/x-python",
   "name": "python",
   "nbconvert_exporter": "python",
   "pygments_lexer": "ipython3",
   "version": "3.9.7"
  }
 },
 "nbformat": 4,
 "nbformat_minor": 5
}
