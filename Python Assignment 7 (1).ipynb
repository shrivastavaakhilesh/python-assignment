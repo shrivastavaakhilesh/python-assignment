{
 "cells": [
  {
   "cell_type": "code",
   "execution_count": 1,
   "id": "74169f98",
   "metadata": {},
   "outputs": [],
   "source": [
    "#Q1. What is the name of the feature that is responsible for generating Regex objects?\n",
    "\n",
    "#Ans. The re.compile() function returns Regex  objects."
   ]
  },
  {
   "cell_type": "code",
   "execution_count": 2,
   "id": "c70e50f5",
   "metadata": {},
   "outputs": [],
   "source": [
    "#Q2. Why do raw strings often appear in Regex objects?\n",
    "\n",
    "#Ans. Raw strings are used so that backslashes do not have to be escaped."
   ]
  },
  {
   "cell_type": "code",
   "execution_count": 3,
   "id": "87b05b54",
   "metadata": {},
   "outputs": [],
   "source": [
    "#Q3. What is the return value of the search() method?\n",
    "\n",
    "#Ans. The search() method returns the  Match objects."
   ]
  },
  {
   "cell_type": "code",
   "execution_count": 4,
   "id": "369efebf",
   "metadata": {},
   "outputs": [],
   "source": [
    "#Q4. From a Match item, how do you get the actual strings that match the pattern? \n",
    "\n",
    "#Ans. The group() methods returns the strings of the matched text."
   ]
  },
  {
   "cell_type": "code",
   "execution_count": 5,
   "id": "a26b80f2",
   "metadata": {},
   "outputs": [],
   "source": [
    "#Q5. In the regex created from the r'(\\d\\d\\d)-(\\d\\d\\d)-(\\d\\d\\d)',what does group zero cover?Gropu2?Group1?\n",
    "\n",
    "#Ans. In the Regex r'(\\d\\d\\d)-(\\d\\d\\d-\\d\\d\\d\\d)' the zero group covers the entire pattern match where as the first group cover (\\d\\d\\d) and the second group cover (\\d\\d\\d-\\d\\d\\d\\d)"
   ]
  },
  {
   "cell_type": "code",
   "execution_count": 6,
   "id": "74085196",
   "metadata": {},
   "outputs": [],
   "source": [
    "#Q6. In standard expression syntax, parentheses and intervals have distinct meanings. How can you tell a regex that you want it to fit real parentheses and periods?\n",
    "#Ans: The \\. \\( and \\) escape characters in the raw string passed to re.compile() will match actual parenthesis characters."
   ]
  },
  {
   "cell_type": "code",
   "execution_count": 7,
   "id": "15a006a4",
   "metadata": {},
   "outputs": [],
   "source": [
    "#Q7. The findal() method returns a string list or a list  of string tuples.What causes it to return one of the two options? \n",
    "\n",
    "#Ans. If the regex has no groups , all of strings is returned.If the regex has groups ,a  list of tuple of strings is returned."
   ]
  },
  {
   "cell_type": "code",
   "execution_count": 8,
   "id": "98af1b34",
   "metadata": {},
   "outputs": [],
   "source": [
    "#Q8. In standard expressions,what  does the | character mean?\n",
    "\n",
    "#Ans. The | character signifies matching \"either,or\" between groups."
   ]
  },
  {
   "cell_type": "code",
   "execution_count": 11,
   "id": "afdaf6cd",
   "metadata": {},
   "outputs": [],
   "source": [
    "#Q9. In regular expressions,what does the? character stand for?\n",
    "\n",
    "#Ans.  In regular Expressions, ? characters represents zero or one match of the preceeding group."
   ]
  },
  {
   "cell_type": "code",
   "execution_count": 12,
   "id": "7b70df5f",
   "metadata": {},
   "outputs": [],
   "source": [
    "#Q10. In regular  expressions,what is the difference between the + and * characters?\n",
    "\n",
    "#Ans. The + matches  one or more and * matches zero or more occurences of preceeding group."
   ]
  },
  {
   "cell_type": "code",
   "execution_count": 13,
   "id": "b84de0f7",
   "metadata": {},
   "outputs": [],
   "source": [
    "#Q11. What is the differene between {4} and {4,5} in regular expressions?\n",
    "\n",
    "#Ans. {4} means that its preceeding group should repeat 4 times. where as {4,5} means that its preceeding group should repeat mininum 4 times and maximum 5 times inclusively"
   ]
  },
  {
   "cell_type": "code",
   "execution_count": 16,
   "id": "874e8978",
   "metadata": {},
   "outputs": [],
   "source": [
    "#Q12. What do you mean by the \\d, \\w, and \\s shorthand character classes signify in regular expressions?\n",
    "\n",
    "#Ans. \\d, \\w and \\s are special sequences in regular expresssions in python:\n",
    "\n",
    "# \\w – Matches a word character equivalent to [a-zA-Z0-9_]\n",
    "# \\d – Matches digit character equivalent to [0-9]\n",
    "# \\s – Matches whitespace character (space, tab, newline, etc.)"
   ]
  },
  {
   "cell_type": "code",
   "execution_count": 17,
   "id": "6bc28f90",
   "metadata": {},
   "outputs": [],
   "source": [
    "#Q13. What do means by \\D, \\W, and \\S shorthand character classes signify in regular expressions?\n",
    "\n",
    "#Ans. \\D, \\W and \\S are special sequences in regular expresssions in python:\n",
    "\n",
    "# \\W – Matches any non-alphanumeric character equivalent to [^a-zA-Z0-9_]\n",
    "# \\D – Matches any non-digit character, this is equivalent to the set class [^0-9]\n",
    "# \\S – Matches any non-whitespace character"
   ]
  },
  {
   "cell_type": "code",
   "execution_count": 18,
   "id": "cdec3cca",
   "metadata": {},
   "outputs": [],
   "source": [
    "#Q14. What is the difference between .*? and.*\n",
    "\n",
    "#Ans. The .* performs a  greedy match,and the .*? performs a non greedy  match."
   ]
  },
  {
   "cell_type": "code",
   "execution_count": 19,
   "id": "796b8997",
   "metadata": {},
   "outputs": [],
   "source": [
    "#Q15. What is the  syntax  for matching both numbers and lowercase  letters with a character  class?\n",
    "\n",
    "#Ans. Either[0-9a-z] or[a-z0-9]"
   ]
  },
  {
   "cell_type": "code",
   "execution_count": 20,
   "id": "14a92ab9",
   "metadata": {},
   "outputs": [],
   "source": [
    "#Q16. What is the procedure for making a normal expression in regax case insensitive?\n",
    "\n",
    "#Ans. We can pass re.IGNORECASE as a flag to make a normal expression case insensitive"
   ]
  },
  {
   "cell_type": "code",
   "execution_count": 21,
   "id": "e5285fc9",
   "metadata": {},
   "outputs": [],
   "source": [
    "#Q17. What does the . character normally match? What does it match if re.DOTALL is passed as 2nd argument in re.compile()?\n",
    "#Ans. Dot . character matches everything in input except newline character .. By passing re.DOTALL as a flag to re.compile(), you can make the dot character match all characters, including the newline character."
   ]
  },
  {
   "cell_type": "code",
   "execution_count": 22,
   "id": "2ff93003",
   "metadata": {},
   "outputs": [],
   "source": [
    "#Q18. If numReg=compile(r'\\d+'),what will numRegex.sub('X','11 drummers,10pipers,five rings,4hen')return?\n",
    "\n",
    "#Ans. 'X drummers,X pipers,five rings,Xhens'"
   ]
  },
  {
   "cell_type": "code",
   "execution_count": 23,
   "id": "b7a6951e",
   "metadata": {},
   "outputs": [],
   "source": [
    "#Q19. What does passing re.VERBOSE as  the 2nd argumment to re.compile() allow to do?\n",
    "\n",
    "#Ans. re.VERBOSE will allow to add whitespace and comments to string passed to re.compile()."
   ]
  },
  {
   "cell_type": "code",
   "execution_count": 24,
   "id": "369509e4",
   "metadata": {},
   "outputs": [],
   "source": [
    "#Q21. How wpuld you write a regex that matches the full nname of someone whose  last name is Watanabe?You can assume the first \n",
    "#     name that comes before it will always be one word that begins with a capital letter.The regex must match the following:\n",
    "#     'Haruto Watanabe'\n",
    "#     'Robocop Wantanbae'\n",
    "#      bout not the following:\n",
    "#      'haruto Wantanbae'(where the first name is not capitalize)\n",
    "#      'Mr. Wantanbae'(where the preceding word has a nonleytter character)\n",
    "#      'Wantanbae'(which has no first  name)\n",
    "#      'Haruto wantanbae'(where Wantanbae is not capitalize)\n",
    "\n",
    "\n",
    "\n",
    "#Ans21.  re.compiler(r'[A-Z][a-z]*\\sWantanbae')"
   ]
  },
  {
   "cell_type": "code",
   "execution_count": 25,
   "id": "5bad5c40",
   "metadata": {},
   "outputs": [],
   "source": [
    "#Q22. How would you write a regex that matches a sentence where the first word is either Alice,Bob or Carol;the second word is \n",
    "#     either eats,pets,or throws;the third word is apples,cats,or baseballs;and the sentence ends with a period?This regex \n",
    "#     should be case-insensitive.It must match the following:\n",
    "#     'Alice eats apples.'\n",
    "#     'Bob pets cats.'\n",
    "#     'Carol throws baseballs.'\n",
    "#      'Alice throws Apples.'\n",
    "#     'BOB EATS CATS.'\n",
    "#     but not the following:\n",
    "#     'RoboCop eats appples.'\n",
    "#      'ALICE THROWS  FOOTBALLS.'\n",
    "#      'Carol eats 7 cats.'\n",
    "\n",
    "\n",
    "#Ans22. re.compiler(r'(Alice|Bob|Carol)\\s(eats|pets|throws)\\\n",
    "#       s\\(apples|cats|baseballs)\\.',\n",
    "#       re.IGNORECASE)"
   ]
  },
  {
   "cell_type": "code",
   "execution_count": null,
   "id": "df916935",
   "metadata": {},
   "outputs": [],
   "source": []
  }
 ],
 "metadata": {
  "kernelspec": {
   "display_name": "Python 3 (ipykernel)",
   "language": "python",
   "name": "python3"
  },
  "language_info": {
   "codemirror_mode": {
    "name": "ipython",
    "version": 3
   },
   "file_extension": ".py",
   "mimetype": "text/x-python",
   "name": "python",
   "nbconvert_exporter": "python",
   "pygments_lexer": "ipython3",
   "version": "3.9.7"
  }
 },
 "nbformat": 4,
 "nbformat_minor": 5
}
