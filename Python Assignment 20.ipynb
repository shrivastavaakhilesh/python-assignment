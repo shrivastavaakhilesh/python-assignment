{
 "cells": [
  {
   "cell_type": "code",
   "execution_count": 1,
   "id": "ece6e4f4",
   "metadata": {},
   "outputs": [],
   "source": [
    "#Q1. Set the variables test1 to the string 'This is a test of the emergency text system,'and save test1 to a file nameed  \n",
    "#    test.txt"
   ]
  },
  {
   "cell_type": "code",
   "execution_count": 2,
   "id": "81d90551",
   "metadata": {},
   "outputs": [
    {
     "name": "stdout",
     "output_type": "stream",
     "text": [
      "This is a test of the emergency text system,\n"
     ]
    }
   ],
   "source": [
    "test1 = 'This is a test of the emergency text system,'\n",
    "print(test1)\n",
    "with open('test.txt','w') as file:\n",
    "    file.write(test1)\n",
    "    file.close()"
   ]
  },
  {
   "cell_type": "code",
   "execution_count": 3,
   "id": "645b4e88",
   "metadata": {},
   "outputs": [
    {
     "name": "stdout",
     "output_type": "stream",
     "text": [
      "This is a test of the emergency text system,\n"
     ]
    }
   ],
   "source": [
    "!type test.txt"
   ]
  },
  {
   "cell_type": "code",
   "execution_count": 4,
   "id": "8beb2ca4",
   "metadata": {},
   "outputs": [],
   "source": [
    "#Q2. Read the contents of the file test.txt into variable test2. Is there a difference between test 1 and test 2?"
   ]
  },
  {
   "cell_type": "code",
   "execution_count": 5,
   "id": "cb4155b2",
   "metadata": {},
   "outputs": [
    {
     "name": "stdout",
     "output_type": "stream",
     "text": [
      "This is a test of the emergency text system,\n",
      "True\n"
     ]
    }
   ],
   "source": [
    "with open('test.txt','r') as file:\n",
    "    test2 = file.read()\n",
    "print(test2)\n",
    "print(test1==test2)"
   ]
  },
  {
   "cell_type": "code",
   "execution_count": 6,
   "id": "a5ffd331",
   "metadata": {},
   "outputs": [],
   "source": [
    "#Q3. Create a CSV file called books.csv by using these lines:\n",
    "#    title,author,year\n",
    "#    The Weirdstone of Brisingamen,Alan Garner,1960\n",
    "#    Perdido Street Station ,China Mieville,2000\n",
    "#    Thud!,Terry Pratchett,2005\n",
    "#    The Spellman Files,Lisa Lutz,2007\n",
    "#    Small Gods,Terry Pratchett,1992"
   ]
  },
  {
   "cell_type": "code",
   "execution_count": 7,
   "id": "c7bddaac",
   "metadata": {},
   "outputs": [],
   "source": [
    "csv = '''title,author,year\n",
    "The Weirdstone of Brisingamen,Alan Garner,1960\n",
    "Perdido Street Station ,China Mieville,2000\n",
    "Thud!,Terry Pratchett,2005\n",
    "The Spellman Files,Lisa Lutz,2007\n",
    "Small Gods,Terry Pratchett,1992'''\n",
    "with open ('books.csv','w') as file:\n",
    "    file.write(csv)"
   ]
  },
  {
   "cell_type": "code",
   "execution_count": 8,
   "id": "07c3288f",
   "metadata": {},
   "outputs": [],
   "source": [
    "#Q4. Use the  sqlite3 module to create a SQLite database called books.db,and a table called books with these fields: title(text)\n",
    "#    author(text), and year(integer)"
   ]
  },
  {
   "cell_type": "code",
   "execution_count": 9,
   "id": "10b7dc10",
   "metadata": {},
   "outputs": [],
   "source": [
    "import sqlite3\n",
    "db = sqlite3.connect('books.db')\n",
    "cursor = db.cursor()\n",
    "cursor.execute(\"CREATE TABLE books(title text, author text, year integer)\")\n",
    "db.commit()\n",
    "db.close()"
   ]
  },
  {
   "cell_type": "code",
   "execution_count": 10,
   "id": "63a3f40e",
   "metadata": {},
   "outputs": [],
   "source": [
    "#Q5. Read books.csv and insert its data into books table."
   ]
  },
  {
   "cell_type": "code",
   "execution_count": 11,
   "id": "08852eb1",
   "metadata": {},
   "outputs": [],
   "source": [
    "import sqlite3\n",
    "import csv\n",
    "conn = sqlite3.connect(\"books.db\")\n",
    "cursor = conn.cursor()\n",
    "with open(\"books.csv\",'r') as file:\n",
    "    books = csv.DictReader(file)\n",
    "    for book in books:\n",
    "        cursor.execute('INSERT INTO books VALUES (?,?,?)',(book['title'],book['author'],book['year']))\n",
    "conn.commit()\n",
    "conn.close()"
   ]
  },
  {
   "cell_type": "code",
   "execution_count": 12,
   "id": "69d80ffd",
   "metadata": {},
   "outputs": [],
   "source": [
    "#Q6. Select and print the title column from the books table in alphabetical order."
   ]
  },
  {
   "cell_type": "code",
   "execution_count": 13,
   "id": "d1155280",
   "metadata": {},
   "outputs": [
    {
     "name": "stdout",
     "output_type": "stream",
     "text": [
      "Perdido Street Station \n",
      "Small Gods\n",
      "The Spellman Files\n",
      "The Weirdstone of Brisingamen\n",
      "Thud!\n"
     ]
    }
   ],
   "source": [
    "import sqlite3\n",
    "conn = sqlite3.connect('books.db')\n",
    "cursor = conn.cursor()\n",
    "output = cursor.execute('SELECT title FROM books ORDER BY title ASC')\n",
    "for i in output:\n",
    "    print(i[0])\n",
    "conn.commit()\n",
    "conn.close()"
   ]
  },
  {
   "cell_type": "code",
   "execution_count": 14,
   "id": "4fc0f2f0",
   "metadata": {},
   "outputs": [],
   "source": [
    "#Q7. From the books table, select and print all columns in the order of publication."
   ]
  },
  {
   "cell_type": "code",
   "execution_count": 15,
   "id": "b60e7fd3",
   "metadata": {},
   "outputs": [
    {
     "data": {
      "text/plain": [
       "Engine(sqlite:///books.db)"
      ]
     },
     "execution_count": 15,
     "metadata": {},
     "output_type": "execute_result"
    }
   ],
   "source": [
    "import sqlalchemy\n",
    "conn = sqlalchemy.create_engine(\"sqlite:///books.db\")\n",
    "conn"
   ]
  }
 ],
 "metadata": {
  "kernelspec": {
   "display_name": "Python 3 (ipykernel)",
   "language": "python",
   "name": "python3"
  },
  "language_info": {
   "codemirror_mode": {
    "name": "ipython",
    "version": 3
   },
   "file_extension": ".py",
   "mimetype": "text/x-python",
   "name": "python",
   "nbconvert_exporter": "python",
   "pygments_lexer": "ipython3",
   "version": "3.9.7"
  }
 },
 "nbformat": 4,
 "nbformat_minor": 5
}
