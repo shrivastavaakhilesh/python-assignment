{
 "cells": [
  {
   "cell_type": "code",
   "execution_count": 1,
   "id": "e64292f0",
   "metadata": {},
   "outputs": [
    {
     "data": {
      "text/plain": [
       "dict"
      ]
     },
     "execution_count": 1,
     "metadata": {},
     "output_type": "execute_result"
    }
   ],
   "source": [
    "#Q1. What doess an empty dictionary's code look like?\n",
    "\n",
    "#Ans. \n",
    "d = {}\n",
    "type(d)"
   ]
  },
  {
   "cell_type": "code",
   "execution_count": 2,
   "id": "052efc3f",
   "metadata": {},
   "outputs": [],
   "source": [
    "#Q2. What is the value of a dictionary value with the key 'foo' and the value 42?\n"
   ]
  },
  {
   "cell_type": "code",
   "execution_count": 3,
   "id": "1b0dee0b",
   "metadata": {},
   "outputs": [
    {
     "data": {
      "text/plain": [
       "'42'"
      ]
     },
     "execution_count": 3,
     "metadata": {},
     "output_type": "execute_result"
    }
   ],
   "source": [
    "d = {\"foo\":\"42\"}\n",
    "d[\"foo\"]"
   ]
  },
  {
   "cell_type": "code",
   "execution_count": 4,
   "id": "6c64dc06",
   "metadata": {},
   "outputs": [],
   "source": [
    "#Q3. What is the most significant distinction between a dictionary and a list?\n",
    "\n",
    "#Ans. In list, the indices of values are basically start from 0 whreas in dictionary, the keys present in it can easily be of \n",
    "#       any data. or the items stored in dictionary are unordered , while the items in list are ordered"
   ]
  },
  {
   "cell_type": "code",
   "execution_count": 5,
   "id": "74a17a6c",
   "metadata": {},
   "outputs": [],
   "source": [
    "#Q4. What happens if you try to access spam['foo'] if spam is {'bar':100}?"
   ]
  },
  {
   "cell_type": "code",
   "execution_count": 6,
   "id": "3c2f7a5f",
   "metadata": {},
   "outputs": [],
   "source": [
    "#Ans. we will get a keyError KeyError: 'foo'"
   ]
  },
  {
   "cell_type": "code",
   "execution_count": 7,
   "id": "cdc17dbd",
   "metadata": {},
   "outputs": [
    {
     "ename": "KeyError",
     "evalue": "'foo'",
     "output_type": "error",
     "traceback": [
      "\u001b[1;31m---------------------------------------------------------------------------\u001b[0m",
      "\u001b[1;31mKeyError\u001b[0m                                  Traceback (most recent call last)",
      "\u001b[1;32m~\\AppData\\Local\\Temp/ipykernel_22240/1078832278.py\u001b[0m in \u001b[0;36m<module>\u001b[1;34m\u001b[0m\n\u001b[0;32m      1\u001b[0m \u001b[0mspam\u001b[0m \u001b[1;33m=\u001b[0m \u001b[1;33m{\u001b[0m\u001b[1;34m'bar'\u001b[0m\u001b[1;33m:\u001b[0m \u001b[1;36m100\u001b[0m\u001b[1;33m}\u001b[0m\u001b[1;33m\u001b[0m\u001b[1;33m\u001b[0m\u001b[0m\n\u001b[1;32m----> 2\u001b[1;33m \u001b[0mspam\u001b[0m \u001b[1;33m[\u001b[0m\u001b[1;34m'foo'\u001b[0m\u001b[1;33m]\u001b[0m\u001b[1;33m\u001b[0m\u001b[1;33m\u001b[0m\u001b[0m\n\u001b[0m",
      "\u001b[1;31mKeyError\u001b[0m: 'foo'"
     ]
    }
   ],
   "source": [
    "spam = {'bar': 100}\n",
    "spam ['foo']"
   ]
  },
  {
   "cell_type": "code",
   "execution_count": 8,
   "id": "9d537da3",
   "metadata": {},
   "outputs": [],
   "source": [
    "#Q5. If a dictionary is stored in spam , what is the difference between the expressions 'cat' in spam and 'cat' in spam.keys()?\n",
    "\n",
    "#Ans. there is no difference the operator checks whether a value exists as a key in dictionary or not"
   ]
  },
  {
   "cell_type": "code",
   "execution_count": 10,
   "id": "f97e1da5",
   "metadata": {},
   "outputs": [],
   "source": [
    "#Q6. If a dictionary is stored in spam , what is the difference between the expressions 'cat' in spam and 'cat' in spam.values()?\n",
    "\n",
    "#Ans.'cat' in spam checks whether there is a 'cat' key in the dictionary, while 'cat' in spam.values() checks whether there is a value 'cat' for one of the keys in spam."
   ]
  },
  {
   "cell_type": "code",
   "execution_count": 11,
   "id": "6085087c",
   "metadata": {},
   "outputs": [],
   "source": [
    "#Q7. What is a shortcut for the following code?\n",
    "# if 'color' not in spam:\n",
    "# spam['color']='black'"
   ]
  },
  {
   "cell_type": "code",
   "execution_count": 12,
   "id": "d82fc3fb",
   "metadata": {},
   "outputs": [
    {
     "data": {
      "text/plain": [
       "'black'"
      ]
     },
     "execution_count": 12,
     "metadata": {},
     "output_type": "execute_result"
    }
   ],
   "source": [
    "spam.setdefault('color','black')"
   ]
  },
  {
   "cell_type": "code",
   "execution_count": 13,
   "id": "a582ee8b",
   "metadata": {},
   "outputs": [],
   "source": [
    "#Q8. How do you \"preety print\" dictionary values using which module and function?\n",
    "\n",
    "#Ans8. pprint.pprint()"
   ]
  },
  {
   "cell_type": "code",
   "execution_count": null,
   "id": "f1cea082",
   "metadata": {},
   "outputs": [],
   "source": []
  }
 ],
 "metadata": {
  "kernelspec": {
   "display_name": "Python 3 (ipykernel)",
   "language": "python",
   "name": "python3"
  },
  "language_info": {
   "codemirror_mode": {
    "name": "ipython",
    "version": 3
   },
   "file_extension": ".py",
   "mimetype": "text/x-python",
   "name": "python",
   "nbconvert_exporter": "python",
   "pygments_lexer": "ipython3",
   "version": "3.9.7"
  }
 },
 "nbformat": 4,
 "nbformat_minor": 5
}
