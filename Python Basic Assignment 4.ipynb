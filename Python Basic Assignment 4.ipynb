{
 "cells": [
  {
   "cell_type": "markdown",
   "id": "7eccb4fa",
   "metadata": {},
   "source": [
    "Q-1. What exactly is [ ]?"
   ]
  },
  {
   "cell_type": "markdown",
   "id": "63075f31",
   "metadata": {},
   "source": [
    "Answer:- The empty list represented by [ ] is a list that contains no items. This is similar to ' ' which represents an empty string."
   ]
  },
  {
   "cell_type": "markdown",
   "id": "2b5784e9",
   "metadata": {},
   "source": [
    "Q-2 In a list of values stored in a variable called spam, how would you assign the value 'hello' as the third value? (Assume [2, 4, 6, 8, 10] are in spam.)"
   ]
  },
  {
   "cell_type": "markdown",
   "id": "bc5feb6b",
   "metadata": {},
   "source": [
    "Answer:- spam[2]='hello' (Note: Lists follows zero based indexing)"
   ]
  },
  {
   "cell_type": "code",
   "execution_count": 11,
   "id": "eb35f776",
   "metadata": {},
   "outputs": [
    {
     "name": "stdout",
     "output_type": "stream",
     "text": [
      "[2, 4, 6, 8, 10]\n",
      "[2, 4, 'hello', 8, 10]\n"
     ]
    }
   ],
   "source": [
    "spam=[2,4,6,8,10]\n",
    "print(spam)\n",
    "spam[2]='hello' #List uses zero based indexing\n",
    "print(spam)"
   ]
  },
  {
   "cell_type": "markdown",
   "id": "fa503878",
   "metadata": {},
   "source": [
    "Q-3. What is the value of spam[int(int('3'*2)//11)] ?"
   ]
  },
  {
   "cell_type": "markdown",
   "id": "fa6d2bc8",
   "metadata": {},
   "source": [
    "Answer:- 'd' ('3' * 2 is the string '33', which is passed to int() before being divided by 11. This eventually evaluates to 3, spam[3] is equal to d.)"
   ]
  },
  {
   "cell_type": "code",
   "execution_count": 6,
   "id": "960b70e0",
   "metadata": {},
   "outputs": [
    {
     "name": "stdout",
     "output_type": "stream",
     "text": [
      "spam[int(int('3'*2)//11)] -> d\n"
     ]
    }
   ],
   "source": [
    "spam=['a','b','c','d']\n",
    "print(\"spam[int(int('3'*2)//11)] ->\",spam[int(int('3'*2)//11)])"
   ]
  },
  {
   "cell_type": "markdown",
   "id": "3126e8f1",
   "metadata": {},
   "source": [
    "Q-4. What is the value of spam[-1]?"
   ]
  },
  {
   "cell_type": "markdown",
   "id": "d3f84330",
   "metadata": {},
   "source": [
    "Answer:- 'd' (Lists support Negative indexing, Hence spam[-1] returs 'd'). -1 index returns last item of the list"
   ]
  },
  {
   "cell_type": "code",
   "execution_count": 7,
   "id": "6aafe2f6",
   "metadata": {},
   "outputs": [
    {
     "name": "stdout",
     "output_type": "stream",
     "text": [
      "spam[-1] ->  d\n"
     ]
    }
   ],
   "source": [
    "spam=['a','b','c','d']\n",
    "print('spam[-1] -> ',spam[-1])"
   ]
  },
  {
   "cell_type": "markdown",
   "id": "bb03ffe8",
   "metadata": {},
   "source": [
    "Q-5. What is the value of spam[:2]?"
   ]
  },
  {
   "cell_type": "markdown",
   "id": "ad6bd4e8",
   "metadata": {},
   "source": [
    "Answer:- spam[:2] returns all elements in the list spam from 0 to 2 excluding 2"
   ]
  },
  {
   "cell_type": "code",
   "execution_count": 8,
   "id": "12ac9cb5",
   "metadata": {},
   "outputs": [
    {
     "name": "stdout",
     "output_type": "stream",
     "text": [
      "['a', 'b', 'c', 'd']\n",
      "['a', 'b']\n"
     ]
    }
   ],
   "source": [
    "print(spam)\n",
    "print(spam[:2])"
   ]
  },
  {
   "cell_type": "markdown",
   "id": "ab98ece9",
   "metadata": {},
   "source": [
    "Q-6. What is the value of bacon.index('cat')?"
   ]
  },
  {
   "cell_type": "markdown",
   "id": "cbebac9f",
   "metadata": {},
   "source": [
    "Answer:- The value of bacon.index('cat') is 1 (Index method returns the index of first occuerence of 'cat')"
   ]
  },
  {
   "cell_type": "code",
   "execution_count": 9,
   "id": "c7c12c0a",
   "metadata": {},
   "outputs": [
    {
     "name": "stdout",
     "output_type": "stream",
     "text": [
      "bacon.index('cat') -> 1\n"
     ]
    }
   ],
   "source": [
    "bacon=[3.14,'cat',11,'cat',True]\n",
    "print(\"bacon.index('cat') ->\",bacon.index('cat'))"
   ]
  },
  {
   "cell_type": "markdown",
   "id": "65fc8358",
   "metadata": {},
   "source": [
    "Q-7. How does bacon.append(99) change the look of the list value in bacon?"
   ]
  },
  {
   "cell_type": "markdown",
   "id": "535c34e3",
   "metadata": {},
   "source": [
    "Answer:- The append method adds new elements to the end of the list"
   ]
  },
  {
   "cell_type": "code",
   "execution_count": 10,
   "id": "809c654c",
   "metadata": {},
   "outputs": [
    {
     "name": "stdout",
     "output_type": "stream",
     "text": [
      "[3.14, 'cat', 11, 'cat', True]\n",
      "[3.14, 'cat', 11, 'cat', True, 99]\n"
     ]
    }
   ],
   "source": [
    "print(bacon)\n",
    "bacon.append(99) # appends 99 to the end of the list\n",
    "print(bacon)"
   ]
  },
  {
   "cell_type": "markdown",
   "id": "073bf0ab",
   "metadata": {},
   "source": [
    "Q-8. How does bacon.remove('cat') change the look of the list in bacon?"
   ]
  },
  {
   "cell_type": "code",
   "execution_count": 13,
   "id": "ef616f0f",
   "metadata": {},
   "outputs": [
    {
     "name": "stdout",
     "output_type": "stream",
     "text": [
      "[3.14, 'cat', 11, 'cat', True, 99]\n",
      "[3.14, 11, 'cat', True, 99]\n"
     ]
    }
   ],
   "source": [
    "print(bacon)\n",
    "bacon.remove('cat')\n",
    "print(bacon)"
   ]
  },
  {
   "cell_type": "markdown",
   "id": "4662fcab",
   "metadata": {},
   "source": [
    "Q-9. what are the list concatenation and list replication operations?"
   ]
  },
  {
   "cell_type": "markdown",
   "id": "36a79c04",
   "metadata": {},
   "source": [
    "Answer:- LIST CONCATENATION is an operation where the elements of one list are added at the end of another list.\n",
    "           LIST REPLICATION is used to repeat a list,number of times given by integer value and create a new list values."
   ]
  },
  {
   "cell_type": "markdown",
   "id": "b9852120",
   "metadata": {},
   "source": [
    "Q-10. what is the difference between the list method append() and insert()?"
   ]
  },
  {
   "cell_type": "markdown",
   "id": "550b6047",
   "metadata": {},
   "source": [
    "Answer:-  append() will add values only to the end of a list, insert() can add them anywhere in the list."
   ]
  },
  {
   "cell_type": "code",
   "execution_count": 15,
   "id": "53d36269",
   "metadata": {},
   "outputs": [
    {
     "name": "stdout",
     "output_type": "stream",
     "text": [
      "[1, 2, 3, 4, 5, 100]\n",
      "[1, 2, 'iNeuron', 3, 4, 5, 100]\n"
     ]
    }
   ],
   "source": [
    "list = [1,2,3,4,5]\n",
    "list.append(100)\n",
    "print(list)\n",
    "list.insert(2,'iNeuron')\n",
    "print(list)"
   ]
  },
  {
   "cell_type": "markdown",
   "id": "5d7073b6",
   "metadata": {},
   "source": [
    "Q-11.  What are the two methods for removing items from a list?"
   ]
  },
  {
   "cell_type": "markdown",
   "id": "273ca1e0",
   "metadata": {},
   "source": [
    "Answer:- The pop() statement and the remove() method are two ways to remove values from a list"
   ]
  },
  {
   "cell_type": "markdown",
   "id": "2605ddac",
   "metadata": {},
   "source": [
    "Q-12.  Describe how list values and string values are identical."
   ]
  },
  {
   "cell_type": "code",
   "execution_count": null,
   "id": "377a6732",
   "metadata": {},
   "outputs": [],
   "source": [
    "Answer:- Below are some reasons how list values and string values are identical:\n",
    "\n",
    "#Both lists and strings can be passed to len() function\n",
    "#Have indexes and slices, be used in for loops,\n",
    "#Can be concatenated or replicated\n",
    "#Can be used with the in and not in operators."
   ]
  },
  {
   "cell_type": "markdown",
   "id": "ed5c3f26",
   "metadata": {},
   "source": [
    "Q-13.  What's the difference between tuples and lists?"
   ]
  },
  {
   "cell_type": "markdown",
   "id": "bde1b28e",
   "metadata": {},
   "source": [
    "Answer:- List is a data type that is mutable and tuple is immutable."
   ]
  },
  {
   "cell_type": "markdown",
   "id": "858c67b8",
   "metadata": {},
   "source": [
    "Q-14. How do you type a tuple value that only contains the integer 42?"
   ]
  },
  {
   "cell_type": "markdown",
   "id": "48cc3dc1",
   "metadata": {},
   "source": [
    "Answer:- (42,) (The trailing comma is mandatory. otherwise its considered as a int by python Interpreter)"
   ]
  },
  {
   "cell_type": "code",
   "execution_count": 17,
   "id": "4e101183",
   "metadata": {},
   "outputs": [
    {
     "name": "stdout",
     "output_type": "stream",
     "text": [
      "<class 'int'>\n",
      "<class 'tuple'>\n"
     ]
    }
   ],
   "source": [
    "tup1=(42)\n",
    "tup2=(42,)\n",
    "print(type(tup1))\n",
    "print(type(tup2))"
   ]
  },
  {
   "cell_type": "markdown",
   "id": "e529c8a6",
   "metadata": {},
   "source": [
    "Q-15.  How do you get a list value's tuple form? How do you get a tuple value's list form?"
   ]
  },
  {
   "cell_type": "markdown",
   "id": "1956c321",
   "metadata": {},
   "source": [
    "Answer:- The tuple() and list() functions, respectively are used to convert a list to tuple and vice versa"
   ]
  },
  {
   "cell_type": "markdown",
   "id": "e7ccc924",
   "metadata": {},
   "source": [
    "Q-16.  Variables that \"contain\" list values are not necessarily lists themselves. Instead, what do they contain?"
   ]
  },
  {
   "cell_type": "markdown",
   "id": "795d702c",
   "metadata": {},
   "source": [
    "Answer:- They contain references to list values."
   ]
  },
  {
   "cell_type": "markdown",
   "id": "180d38a2",
   "metadata": {},
   "source": [
    "Q-17.  How do you distinguish between copy.copy() and copy.deepcopy()?"
   ]
  },
  {
   "cell_type": "markdown",
   "id": "bc498d46",
   "metadata": {},
   "source": [
    "Answer:- The copy.copy() function will do a shallow copy of a list, while the copy.deepcopy() function will do a deep copy of a list. That is, only copy.deepcopy() will duplicate any lists inside the list."
   ]
  },
  {
   "cell_type": "code",
   "execution_count": 18,
   "id": "0af3b38c",
   "metadata": {},
   "outputs": [],
   "source": [
    "# importing copy module\n",
    "import copy\n",
    "\n",
    "# initializing list 1\n",
    "li1 = [1, 2, [3,5], 4]\n",
    "\n",
    "\n",
    "# using copy for shallow copy\n",
    "li2 = copy.copy(li1)\n",
    "\n",
    "# using deepcopy for deepcopy\n",
    "li3 = copy.deepcopy(li1)"
   ]
  }
 ],
 "metadata": {
  "kernelspec": {
   "display_name": "Python 3 (ipykernel)",
   "language": "python",
   "name": "python3"
  },
  "language_info": {
   "codemirror_mode": {
    "name": "ipython",
    "version": 3
   },
   "file_extension": ".py",
   "mimetype": "text/x-python",
   "name": "python",
   "nbconvert_exporter": "python",
   "pygments_lexer": "ipython3",
   "version": "3.9.7"
  }
 },
 "nbformat": 4,
 "nbformat_minor": 5
}
